{
  "nbformat": 4,
  "nbformat_minor": 0,
  "metadata": {
    "colab": {
      "name": "demo-preprocessing.ipynb",
      "provenance": [],
      "authorship_tag": "ABX9TyNQs0VZrNq0ntor06tSVJ/U",
      "include_colab_link": true
    },
    "kernelspec": {
      "name": "python3",
      "display_name": "Python 3"
    }
  },
  "cells": [
    {
      "cell_type": "markdown",
      "metadata": {
        "id": "view-in-github",
        "colab_type": "text"
      },
      "source": [
        "<a href=\"https://colab.research.google.com/github/codeforgirls-sa/ds/blob/master/unit2/exploratory-data-analysis-preprocessing/demo_preprocessing.ipynb\" target=\"_parent\"><img src=\"https://colab.research.google.com/assets/colab-badge.svg\" alt=\"Open In Colab\"/></a>"
      ]
    },
    {
      "cell_type": "code",
      "metadata": {
        "id": "QAkEFgrkNzKH",
        "colab_type": "code",
        "colab": {
          "base_uri": "https://localhost:8080/",
          "height": 71
        },
        "outputId": "24ffff68-c006-4dc0-ef08-94f81a2f1796"
      },
      "source": [
        "import pandas as pd\n",
        "import matplotlib.pyplot as plt\n",
        "import seaborn as sns"
      ],
      "execution_count": 1,
      "outputs": [
        {
          "output_type": "stream",
          "text": [
            "/usr/local/lib/python3.6/dist-packages/statsmodels/tools/_testing.py:19: FutureWarning: pandas.util.testing is deprecated. Use the functions in the public API at pandas.testing instead.\n",
            "  import pandas.util.testing as tm\n"
          ],
          "name": "stderr"
        }
      ]
    },
    {
      "cell_type": "code",
      "metadata": {
        "id": "DwpnttZKcgOF",
        "colab_type": "code",
        "colab": {
          "base_uri": "https://localhost:8080/",
          "height": 204
        },
        "outputId": "d764fff2-e137-4ca6-8bbc-09ba946303e9"
      },
      "source": [
        "!wget https://raw.githubusercontent.com/codeforgirls-sa/ds/master/unit2/exploratory-data-analysis-preprocessing/HR_dataset.csv"
      ],
      "execution_count": 2,
      "outputs": [
        {
          "output_type": "stream",
          "text": [
            "--2020-07-06 10:04:02--  https://raw.githubusercontent.com/codeforgirls-sa/ds/master/unit2/exploratory-data-analysis-preprocessing/HR_dataset.csv\n",
            "Resolving raw.githubusercontent.com (raw.githubusercontent.com)... 151.101.0.133, 151.101.64.133, 151.101.128.133, ...\n",
            "Connecting to raw.githubusercontent.com (raw.githubusercontent.com)|151.101.0.133|:443... connected.\n",
            "HTTP request sent, awaiting response... 200 OK\n",
            "Length: 68647 (67K) [text/plain]\n",
            "Saving to: ‘HR_dataset.csv’\n",
            "\n",
            "\rHR_dataset.csv        0%[                    ]       0  --.-KB/s               \rHR_dataset.csv      100%[===================>]  67.04K  --.-KB/s    in 0.03s   \n",
            "\n",
            "2020-07-06 10:04:02 (2.43 MB/s) - ‘HR_dataset.csv’ saved [68647/68647]\n",
            "\n"
          ],
          "name": "stdout"
        }
      ]
    },
    {
      "cell_type": "code",
      "metadata": {
        "id": "ZuJqXjKfch4k",
        "colab_type": "code",
        "colab": {
          "base_uri": "https://localhost:8080/",
          "height": 428
        },
        "outputId": "fef5c964-fd89-4cd8-c53b-62c92a64a3d5"
      },
      "source": [
        "df = pd.read_csv('HR_dataset.csv')\n",
        "df.head()"
      ],
      "execution_count": 3,
      "outputs": [
        {
          "output_type": "execute_result",
          "data": {
            "text/html": [
              "<div>\n",
              "<style scoped>\n",
              "    .dataframe tbody tr th:only-of-type {\n",
              "        vertical-align: middle;\n",
              "    }\n",
              "\n",
              "    .dataframe tbody tr th {\n",
              "        vertical-align: top;\n",
              "    }\n",
              "\n",
              "    .dataframe thead th {\n",
              "        text-align: right;\n",
              "    }\n",
              "</style>\n",
              "<table border=\"1\" class=\"dataframe\">\n",
              "  <thead>\n",
              "    <tr style=\"text-align: right;\">\n",
              "      <th></th>\n",
              "      <th>Employee Name</th>\n",
              "      <th>Employee Number</th>\n",
              "      <th>State</th>\n",
              "      <th>Zip</th>\n",
              "      <th>DOB</th>\n",
              "      <th>Age</th>\n",
              "      <th>Sex</th>\n",
              "      <th>MaritalDesc</th>\n",
              "      <th>CitizenDesc</th>\n",
              "      <th>Hispanic/Latino</th>\n",
              "      <th>RaceDesc</th>\n",
              "      <th>Date of Hire</th>\n",
              "      <th>Date of Termination</th>\n",
              "      <th>Reason For Term</th>\n",
              "      <th>Employment Status</th>\n",
              "      <th>Department</th>\n",
              "      <th>Position</th>\n",
              "      <th>Pay Rate</th>\n",
              "      <th>Manager Name</th>\n",
              "      <th>Employee Source</th>\n",
              "      <th>Performance Score</th>\n",
              "    </tr>\n",
              "  </thead>\n",
              "  <tbody>\n",
              "    <tr>\n",
              "      <th>0</th>\n",
              "      <td>Brown, Mia</td>\n",
              "      <td>1.103024e+09</td>\n",
              "      <td>MA</td>\n",
              "      <td>1450.0</td>\n",
              "      <td>11/24/1985</td>\n",
              "      <td>32.0</td>\n",
              "      <td>Female</td>\n",
              "      <td>Married</td>\n",
              "      <td>US Citizen</td>\n",
              "      <td>No</td>\n",
              "      <td>Black or African American</td>\n",
              "      <td>10/27/2008</td>\n",
              "      <td>NaN</td>\n",
              "      <td>N/A - still employed</td>\n",
              "      <td>Active</td>\n",
              "      <td>Admin Offices</td>\n",
              "      <td>Accountant I</td>\n",
              "      <td>28.50</td>\n",
              "      <td>Brandon R. LeBlanc</td>\n",
              "      <td>Diversity Job Fair</td>\n",
              "      <td>Fully Meets</td>\n",
              "    </tr>\n",
              "    <tr>\n",
              "      <th>1</th>\n",
              "      <td>LaRotonda, William</td>\n",
              "      <td>1.106027e+09</td>\n",
              "      <td>MA</td>\n",
              "      <td>1460.0</td>\n",
              "      <td>4/26/1984</td>\n",
              "      <td>33.0</td>\n",
              "      <td>Male</td>\n",
              "      <td>Divorced</td>\n",
              "      <td>US Citizen</td>\n",
              "      <td>No</td>\n",
              "      <td>Black or African American</td>\n",
              "      <td>1/6/2014</td>\n",
              "      <td>NaN</td>\n",
              "      <td>N/A - still employed</td>\n",
              "      <td>Active</td>\n",
              "      <td>Admin Offices</td>\n",
              "      <td>Accountant I</td>\n",
              "      <td>23.00</td>\n",
              "      <td>Brandon R. LeBlanc</td>\n",
              "      <td>Website Banner Ads</td>\n",
              "      <td>Fully Meets</td>\n",
              "    </tr>\n",
              "    <tr>\n",
              "      <th>2</th>\n",
              "      <td>Steans, Tyrone</td>\n",
              "      <td>1.302053e+09</td>\n",
              "      <td>MA</td>\n",
              "      <td>2703.0</td>\n",
              "      <td>9/1/1986</td>\n",
              "      <td>31.0</td>\n",
              "      <td>Male</td>\n",
              "      <td>Single</td>\n",
              "      <td>US Citizen</td>\n",
              "      <td>No</td>\n",
              "      <td>White</td>\n",
              "      <td>9/29/2014</td>\n",
              "      <td>NaN</td>\n",
              "      <td>N/A - still employed</td>\n",
              "      <td>Active</td>\n",
              "      <td>Admin Offices</td>\n",
              "      <td>Accountant I</td>\n",
              "      <td>29.00</td>\n",
              "      <td>Brandon R. LeBlanc</td>\n",
              "      <td>Internet Search</td>\n",
              "      <td>Fully Meets</td>\n",
              "    </tr>\n",
              "    <tr>\n",
              "      <th>3</th>\n",
              "      <td>Howard, Estelle</td>\n",
              "      <td>1.211051e+09</td>\n",
              "      <td>MA</td>\n",
              "      <td>2170.0</td>\n",
              "      <td>9/16/1985</td>\n",
              "      <td>32.0</td>\n",
              "      <td>Female</td>\n",
              "      <td>Married</td>\n",
              "      <td>US Citizen</td>\n",
              "      <td>No</td>\n",
              "      <td>White</td>\n",
              "      <td>2/16/2015</td>\n",
              "      <td>4/15/2015</td>\n",
              "      <td>N/A - still employed</td>\n",
              "      <td>Active</td>\n",
              "      <td>Admin Offices</td>\n",
              "      <td>Administrative Assistant</td>\n",
              "      <td>21.50</td>\n",
              "      <td>Brandon R. LeBlanc</td>\n",
              "      <td>Pay Per Click - Google</td>\n",
              "      <td>N/A- too early to review</td>\n",
              "    </tr>\n",
              "    <tr>\n",
              "      <th>4</th>\n",
              "      <td>Singh, Nan</td>\n",
              "      <td>1.307060e+09</td>\n",
              "      <td>MA</td>\n",
              "      <td>2330.0</td>\n",
              "      <td>5/19/1988</td>\n",
              "      <td>29.0</td>\n",
              "      <td>Female</td>\n",
              "      <td>Single</td>\n",
              "      <td>US Citizen</td>\n",
              "      <td>No</td>\n",
              "      <td>White</td>\n",
              "      <td>5/1/2015</td>\n",
              "      <td>NaN</td>\n",
              "      <td>N/A - still employed</td>\n",
              "      <td>Active</td>\n",
              "      <td>Admin Offices</td>\n",
              "      <td>Administrative Assistant</td>\n",
              "      <td>16.56</td>\n",
              "      <td>Brandon R. LeBlanc</td>\n",
              "      <td>Website Banner Ads</td>\n",
              "      <td>N/A- too early to review</td>\n",
              "    </tr>\n",
              "  </tbody>\n",
              "</table>\n",
              "</div>"
            ],
            "text/plain": [
              "          Employee Name  ...         Performance Score\n",
              "0            Brown, Mia  ...               Fully Meets\n",
              "1  LaRotonda, William    ...               Fully Meets\n",
              "2      Steans, Tyrone    ...               Fully Meets\n",
              "3       Howard, Estelle  ...  N/A- too early to review\n",
              "4           Singh, Nan   ...  N/A- too early to review\n",
              "\n",
              "[5 rows x 21 columns]"
            ]
          },
          "metadata": {
            "tags": []
          },
          "execution_count": 3
        }
      ]
    },
    {
      "cell_type": "code",
      "metadata": {
        "id": "kXW9JzRacy2r",
        "colab_type": "code",
        "colab": {
          "base_uri": "https://localhost:8080/",
          "height": 493
        },
        "outputId": "ea9339a7-4597-44e5-98f7-1dde849f10f5"
      },
      "source": [
        "df.info()"
      ],
      "execution_count": 4,
      "outputs": [
        {
          "output_type": "stream",
          "text": [
            "<class 'pandas.core.frame.DataFrame'>\n",
            "RangeIndex: 302 entries, 0 to 301\n",
            "Data columns (total 21 columns):\n",
            " #   Column               Non-Null Count  Dtype  \n",
            "---  ------               --------------  -----  \n",
            " 0   Employee Name        301 non-null    object \n",
            " 1   Employee Number      301 non-null    float64\n",
            " 2   State                301 non-null    object \n",
            " 3   Zip                  301 non-null    float64\n",
            " 4   DOB                  301 non-null    object \n",
            " 5   Age                  301 non-null    float64\n",
            " 6   Sex                  301 non-null    object \n",
            " 7   MaritalDesc          301 non-null    object \n",
            " 8   CitizenDesc          301 non-null    object \n",
            " 9   Hispanic/Latino      301 non-null    object \n",
            " 10  RaceDesc             301 non-null    object \n",
            " 11  Date of Hire         301 non-null    object \n",
            " 12  Date of Termination  103 non-null    object \n",
            " 13  Reason For Term      301 non-null    object \n",
            " 14  Employment Status    301 non-null    object \n",
            " 15  Department           301 non-null    object \n",
            " 16  Position             301 non-null    object \n",
            " 17  Pay Rate             301 non-null    float64\n",
            " 18  Manager Name         301 non-null    object \n",
            " 19  Employee Source      301 non-null    object \n",
            " 20  Performance Score    301 non-null    object \n",
            "dtypes: float64(4), object(17)\n",
            "memory usage: 49.7+ KB\n"
          ],
          "name": "stdout"
        }
      ]
    },
    {
      "cell_type": "code",
      "metadata": {
        "id": "t2xjepTNdMsS",
        "colab_type": "code",
        "colab": {
          "base_uri": "https://localhost:8080/",
          "height": 391
        },
        "outputId": "78f02a38-424a-4e6f-d799-64c9861c80d1"
      },
      "source": [
        "df.isnull().count()"
      ],
      "execution_count": 5,
      "outputs": [
        {
          "output_type": "execute_result",
          "data": {
            "text/plain": [
              "Employee Name          302\n",
              "Employee Number        302\n",
              "State                  302\n",
              "Zip                    302\n",
              "DOB                    302\n",
              "Age                    302\n",
              "Sex                    302\n",
              "MaritalDesc            302\n",
              "CitizenDesc            302\n",
              "Hispanic/Latino        302\n",
              "RaceDesc               302\n",
              "Date of Hire           302\n",
              "Date of Termination    302\n",
              "Reason For Term        302\n",
              "Employment Status      302\n",
              "Department             302\n",
              "Position               302\n",
              "Pay Rate               302\n",
              "Manager Name           302\n",
              "Employee Source        302\n",
              "Performance Score      302\n",
              "dtype: int64"
            ]
          },
          "metadata": {
            "tags": []
          },
          "execution_count": 5
        }
      ]
    },
    {
      "cell_type": "markdown",
      "metadata": {
        "id": "8W4aLHTDkTgN",
        "colab_type": "text"
      },
      "source": [
        "#Check missing values"
      ]
    },
    {
      "cell_type": "code",
      "metadata": {
        "id": "BpS6csjOdv_l",
        "colab_type": "code",
        "colab": {
          "base_uri": "https://localhost:8080/",
          "height": 388
        },
        "outputId": "f5d65edd-c1a7-4ce0-cb5e-c908a3781abb"
      },
      "source": [
        "sns.set()\n",
        "\n",
        "# Check if there is any missing value\n",
        "sns.heatmap(df.isnull(), cmap='viridis')"
      ],
      "execution_count": 6,
      "outputs": [
        {
          "output_type": "execute_result",
          "data": {
            "text/plain": [
              "<matplotlib.axes._subplots.AxesSubplot at 0x7f858e345dd8>"
            ]
          },
          "metadata": {
            "tags": []
          },
          "execution_count": 6
        },
        {
          "output_type": "display_data",
          "data": {
            "image/png": "[encoded data removed]",
            "text/plain": [
              "<Figure size 432x288 with 2 Axes>"
            ]
          },
          "metadata": {
            "tags": []
          }
        }
      ]
    },
    {
      "cell_type": "markdown",
      "metadata": {
        "id": "wtcaFavykYwQ",
        "colab_type": "text"
      },
      "source": [
        "#Remove missing values"
      ]
    },
    {
      "cell_type": "code",
      "metadata": {
        "id": "eoBCiHkUN2eC",
        "colab_type": "code",
        "colab": {}
      },
      "source": [
        "# Remove missing values.\n",
        "# Since the missing value here found in \"Date of Termination\" column, we can't apply any statistical calculation.\n",
        "# The solutions are either to drop this column or fill it manually.\n",
        "df = df.drop(columns='Date of Termination', axis=1)\n"
      ],
      "execution_count": 7,
      "outputs": []
    },
    {
      "cell_type": "code",
      "metadata": {
        "id": "DwW-aRkNkEl_",
        "colab_type": "code",
        "colab": {
          "base_uri": "https://localhost:8080/",
          "height": 388
        },
        "outputId": "a26c49c1-df82-4e95-859a-6fb3330625cb"
      },
      "source": [
        "sns.set()\n",
        "\n",
        "# Check if there is any missing value\n",
        "sns.heatmap(df.isnull(), cmap='viridis')"
      ],
      "execution_count": 8,
      "outputs": [
        {
          "output_type": "execute_result",
          "data": {
            "text/plain": [
              "<matplotlib.axes._subplots.AxesSubplot at 0x7f858e3454e0>"
            ]
          },
          "metadata": {
            "tags": []
          },
          "execution_count": 8
        },
        {
          "output_type": "display_data",
          "data": {
            "image/png": "[encoded data removed]",
            "text/plain": [
              "<Figure size 432x288 with 2 Axes>"
            ]
          },
          "metadata": {
            "tags": []
          }
        }
      ]
    },
    {
      "cell_type": "markdown",
      "metadata": {
        "id": "LnJPukXjkfp8",
        "colab_type": "text"
      },
      "source": [
        "# Remove outliers"
      ]
    },
    {
      "cell_type": "code",
      "metadata": {
        "id": "bD0nA2_4lMIU",
        "colab_type": "code",
        "colab": {
          "base_uri": "https://localhost:8080/",
          "height": 265
        },
        "outputId": "cc06887d-01b7-4530-9bb2-45d24e979e14"
      },
      "source": [
        "sns.boxplot(df['Pay Rate'].values, orient='v')"
      ],
      "execution_count": 9,
      "outputs": [
        {
          "output_type": "execute_result",
          "data": {
            "text/plain": [
              "<matplotlib.axes._subplots.AxesSubplot at 0x7f858a2862b0>"
            ]
          },
          "metadata": {
            "tags": []
          },
          "execution_count": 9
        },
        {
          "output_type": "display_data",
          "data": {
            "image/png": "[encoded data removed]",
            "text/plain": [
              "<Figure size 432x288 with 1 Axes>"
            ]
          },
          "metadata": {
            "tags": []
          }
        }
      ]
    },
    {
      "cell_type": "code",
      "metadata": {
        "id": "u_V6_FV2OA5x",
        "colab_type": "code",
        "colab": {
          "base_uri": "https://localhost:8080/",
          "height": 269
        },
        "outputId": "3abc9d5f-e624-407a-fbbb-99ea935304b3"
      },
      "source": [
        "# Remove outliers\n",
        "df['Pay Rate'] = df['Pay Rate'].clip(14, 77)\n",
        "\n",
        "sns.boxplot(df['Pay Rate'].values, orient='v')\n"
      ],
      "execution_count": 10,
      "outputs": [
        {
          "output_type": "execute_result",
          "data": {
            "text/plain": [
              "<matplotlib.axes._subplots.AxesSubplot at 0x7f858a1961d0>"
            ]
          },
          "metadata": {
            "tags": []
          },
          "execution_count": 10
        },
        {
          "output_type": "display_data",
          "data": {
            "image/png": "[encoded data removed]",
            "text/plain": [
              "<Figure size 432x288 with 1 Axes>"
            ]
          },
          "metadata": {
            "tags": []
          }
        }
      ]
    },
    {
      "cell_type": "markdown",
      "metadata": {
        "id": "96ZaAs7lkrEM",
        "colab_type": "text"
      },
      "source": [
        "# Remove any duplicates"
      ]
    },
    {
      "cell_type": "code",
      "metadata": {
        "id": "ZqZN7T17c6SO",
        "colab_type": "code",
        "colab": {}
      },
      "source": [
        "# If there were any duplicates, we can do the following: \n",
        "\n",
        "# => remove them then update the DataFrame\n",
        "df = df.drop_duplicates()"
      ],
      "execution_count": 11,
      "outputs": []
    }
  ]
}