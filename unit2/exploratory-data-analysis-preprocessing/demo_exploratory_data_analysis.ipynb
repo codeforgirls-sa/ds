{
  "nbformat": 4,
  "nbformat_minor": 0,
  "metadata": {
    "colab": {
      "name": "demo-exploratory-data-analysis.ipynb",
      "provenance": [],
      "authorship_tag": "ABX9TyOfjA3nmlq8x9Vkb9e08axS",
      "include_colab_link": true
    },
    "kernelspec": {
      "name": "python3",
      "display_name": "Python 3"
    }
  },
  "cells": [
    {
      "cell_type": "markdown",
      "metadata": {
        "id": "view-in-github",
        "colab_type": "text"
      },
      "source": [
        "<a href=\"https://colab.research.google.com/github/codeforgirls-sa/ds/blob/master/unit2/exploratory-data-analysis-preprocessing/demo_exploratory_data_analysis.ipynb\" target=\"_parent\"><img src=\"https://colab.research.google.com/assets/colab-badge.svg\" alt=\"Open In Colab\"/></a>"
      ]
    },
    {
      "cell_type": "code",
      "metadata": {
        "id": "ToTo8I85HNyI",
        "colab_type": "code",
        "colab": {}
      },
      "source": [
        "import pandas as pd\n",
        "import matplotlib.pyplot as plt\n",
        "import seaborn as sns"
      ],
      "execution_count": 18,
      "outputs": []
    },
    {
      "cell_type": "code",
      "metadata": {
        "id": "7A-uDyYNN1mr",
        "colab_type": "code",
        "colab": {
          "base_uri": "https://localhost:8080/",
          "height": 224
        },
        "outputId": "6d18d9f7-d885-4c59-9363-5430de8db3c4"
      },
      "source": [
        "!wget https://raw.githubusercontent.com/codeforgirls-sa/ds/master/unit2/exploratory-data-analysis-preprocessing/HR_dataset.csv"
      ],
      "execution_count": 19,
      "outputs": [
        {
          "output_type": "stream",
          "text": [
            "--2020-07-06 09:42:45--  https://raw.githubusercontent.com/codeforgirls-sa/ds/master/unit2/exploratory-data-analysis-preprocessing/HR_dataset.csv\n",
            "Resolving raw.githubusercontent.com (raw.githubusercontent.com)... 151.101.0.133, 151.101.64.133, 151.101.128.133, ...\n",
            "Connecting to raw.githubusercontent.com (raw.githubusercontent.com)|151.101.0.133|:443... connected.\n",
            "HTTP request sent, awaiting response... 200 OK\n",
            "Length: 68647 (67K) [text/plain]\n",
            "Saving to: ‘HR_dataset.csv.1’\n",
            "\n",
            "\rHR_dataset.csv.1      0%[                    ]       0  --.-KB/s               \rHR_dataset.csv.1    100%[===================>]  67.04K  --.-KB/s    in 0.02s   \n",
            "\n",
            "2020-07-06 09:42:45 (2.74 MB/s) - ‘HR_dataset.csv.1’ saved [68647/68647]\n",
            "\n"
          ],
          "name": "stdout"
        }
      ]
    },
    {
      "cell_type": "code",
      "metadata": {
        "id": "A5ymoiOeHY3f",
        "colab_type": "code",
        "colab": {}
      },
      "source": [
        "df = pd.read_csv('HR_dataset.csv')\n"
      ],
      "execution_count": 20,
      "outputs": []
    },
    {
      "cell_type": "code",
      "metadata": {
        "id": "KwpRtD3zh73W",
        "colab_type": "code",
        "colab": {
          "base_uri": "https://localhost:8080/",
          "height": 428
        },
        "outputId": "b52737ea-2540-4ee1-c259-2ac0f4188cc7"
      },
      "source": [
        "# First five rows\n",
        "df.head()"
      ],
      "execution_count": 21,
      "outputs": [
        {
          "output_type": "execute_result",
          "data": {
            "text/html": [
              "<div>\n",
              "<style scoped>\n",
              "    .dataframe tbody tr th:only-of-type {\n",
              "        vertical-align: middle;\n",
              "    }\n",
              "\n",
              "    .dataframe tbody tr th {\n",
              "        vertical-align: top;\n",
              "    }\n",
              "\n",
              "    .dataframe thead th {\n",
              "        text-align: right;\n",
              "    }\n",
              "</style>\n",
              "<table border=\"1\" class=\"dataframe\">\n",
              "  <thead>\n",
              "    <tr style=\"text-align: right;\">\n",
              "      <th></th>\n",
              "      <th>Employee Name</th>\n",
              "      <th>Employee Number</th>\n",
              "      <th>State</th>\n",
              "      <th>Zip</th>\n",
              "      <th>DOB</th>\n",
              "      <th>Age</th>\n",
              "      <th>Sex</th>\n",
              "      <th>MaritalDesc</th>\n",
              "      <th>CitizenDesc</th>\n",
              "      <th>Hispanic/Latino</th>\n",
              "      <th>RaceDesc</th>\n",
              "      <th>Date of Hire</th>\n",
              "      <th>Date of Termination</th>\n",
              "      <th>Reason For Term</th>\n",
              "      <th>Employment Status</th>\n",
              "      <th>Department</th>\n",
              "      <th>Position</th>\n",
              "      <th>Pay Rate</th>\n",
              "      <th>Manager Name</th>\n",
              "      <th>Employee Source</th>\n",
              "      <th>Performance Score</th>\n",
              "    </tr>\n",
              "  </thead>\n",
              "  <tbody>\n",
              "    <tr>\n",
              "      <th>0</th>\n",
              "      <td>Brown, Mia</td>\n",
              "      <td>1.103024e+09</td>\n",
              "      <td>MA</td>\n",
              "      <td>1450.0</td>\n",
              "      <td>11/24/1985</td>\n",
              "      <td>32.0</td>\n",
              "      <td>Female</td>\n",
              "      <td>Married</td>\n",
              "      <td>US Citizen</td>\n",
              "      <td>No</td>\n",
              "      <td>Black or African American</td>\n",
              "      <td>10/27/2008</td>\n",
              "      <td>NaN</td>\n",
              "      <td>N/A - still employed</td>\n",
              "      <td>Active</td>\n",
              "      <td>Admin Offices</td>\n",
              "      <td>Accountant I</td>\n",
              "      <td>28.50</td>\n",
              "      <td>Brandon R. LeBlanc</td>\n",
              "      <td>Diversity Job Fair</td>\n",
              "      <td>Fully Meets</td>\n",
              "    </tr>\n",
              "    <tr>\n",
              "      <th>1</th>\n",
              "      <td>LaRotonda, William</td>\n",
              "      <td>1.106027e+09</td>\n",
              "      <td>MA</td>\n",
              "      <td>1460.0</td>\n",
              "      <td>4/26/1984</td>\n",
              "      <td>33.0</td>\n",
              "      <td>Male</td>\n",
              "      <td>Divorced</td>\n",
              "      <td>US Citizen</td>\n",
              "      <td>No</td>\n",
              "      <td>Black or African American</td>\n",
              "      <td>1/6/2014</td>\n",
              "      <td>NaN</td>\n",
              "      <td>N/A - still employed</td>\n",
              "      <td>Active</td>\n",
              "      <td>Admin Offices</td>\n",
              "      <td>Accountant I</td>\n",
              "      <td>23.00</td>\n",
              "      <td>Brandon R. LeBlanc</td>\n",
              "      <td>Website Banner Ads</td>\n",
              "      <td>Fully Meets</td>\n",
              "    </tr>\n",
              "    <tr>\n",
              "      <th>2</th>\n",
              "      <td>Steans, Tyrone</td>\n",
              "      <td>1.302053e+09</td>\n",
              "      <td>MA</td>\n",
              "      <td>2703.0</td>\n",
              "      <td>9/1/1986</td>\n",
              "      <td>31.0</td>\n",
              "      <td>Male</td>\n",
              "      <td>Single</td>\n",
              "      <td>US Citizen</td>\n",
              "      <td>No</td>\n",
              "      <td>White</td>\n",
              "      <td>9/29/2014</td>\n",
              "      <td>NaN</td>\n",
              "      <td>N/A - still employed</td>\n",
              "      <td>Active</td>\n",
              "      <td>Admin Offices</td>\n",
              "      <td>Accountant I</td>\n",
              "      <td>29.00</td>\n",
              "      <td>Brandon R. LeBlanc</td>\n",
              "      <td>Internet Search</td>\n",
              "      <td>Fully Meets</td>\n",
              "    </tr>\n",
              "    <tr>\n",
              "      <th>3</th>\n",
              "      <td>Howard, Estelle</td>\n",
              "      <td>1.211051e+09</td>\n",
              "      <td>MA</td>\n",
              "      <td>2170.0</td>\n",
              "      <td>9/16/1985</td>\n",
              "      <td>32.0</td>\n",
              "      <td>Female</td>\n",
              "      <td>Married</td>\n",
              "      <td>US Citizen</td>\n",
              "      <td>No</td>\n",
              "      <td>White</td>\n",
              "      <td>2/16/2015</td>\n",
              "      <td>4/15/2015</td>\n",
              "      <td>N/A - still employed</td>\n",
              "      <td>Active</td>\n",
              "      <td>Admin Offices</td>\n",
              "      <td>Administrative Assistant</td>\n",
              "      <td>21.50</td>\n",
              "      <td>Brandon R. LeBlanc</td>\n",
              "      <td>Pay Per Click - Google</td>\n",
              "      <td>N/A- too early to review</td>\n",
              "    </tr>\n",
              "    <tr>\n",
              "      <th>4</th>\n",
              "      <td>Singh, Nan</td>\n",
              "      <td>1.307060e+09</td>\n",
              "      <td>MA</td>\n",
              "      <td>2330.0</td>\n",
              "      <td>5/19/1988</td>\n",
              "      <td>29.0</td>\n",
              "      <td>Female</td>\n",
              "      <td>Single</td>\n",
              "      <td>US Citizen</td>\n",
              "      <td>No</td>\n",
              "      <td>White</td>\n",
              "      <td>5/1/2015</td>\n",
              "      <td>NaN</td>\n",
              "      <td>N/A - still employed</td>\n",
              "      <td>Active</td>\n",
              "      <td>Admin Offices</td>\n",
              "      <td>Administrative Assistant</td>\n",
              "      <td>16.56</td>\n",
              "      <td>Brandon R. LeBlanc</td>\n",
              "      <td>Website Banner Ads</td>\n",
              "      <td>N/A- too early to review</td>\n",
              "    </tr>\n",
              "  </tbody>\n",
              "</table>\n",
              "</div>"
            ],
            "text/plain": [
              "          Employee Name  ...         Performance Score\n",
              "0            Brown, Mia  ...               Fully Meets\n",
              "1  LaRotonda, William    ...               Fully Meets\n",
              "2      Steans, Tyrone    ...               Fully Meets\n",
              "3       Howard, Estelle  ...  N/A- too early to review\n",
              "4           Singh, Nan   ...  N/A- too early to review\n",
              "\n",
              "[5 rows x 21 columns]"
            ]
          },
          "metadata": {
            "tags": []
          },
          "execution_count": 21
        }
      ]
    },
    {
      "cell_type": "code",
      "metadata": {
        "id": "-ruUupZOiMmx",
        "colab_type": "code",
        "colab": {
          "base_uri": "https://localhost:8080/",
          "height": 34
        },
        "outputId": "8059c4a7-44ef-46f1-c1d7-a2d398b76eac"
      },
      "source": [
        "# DataFrame shape (rows, columns)\n",
        "df.shape"
      ],
      "execution_count": 22,
      "outputs": [
        {
          "output_type": "execute_result",
          "data": {
            "text/plain": [
              "(302, 21)"
            ]
          },
          "metadata": {
            "tags": []
          },
          "execution_count": 22
        }
      ]
    },
    {
      "cell_type": "code",
      "metadata": {
        "id": "O9QBBu2niONG",
        "colab_type": "code",
        "colab": {
          "base_uri": "https://localhost:8080/",
          "height": 493
        },
        "outputId": "5dce35f9-d0d6-4ffd-a3e5-eb01297d4b22"
      },
      "source": [
        "# To find what all columns it contains, of what types and if they contain any value in it or not.\n",
        "df.info()"
      ],
      "execution_count": 23,
      "outputs": [
        {
          "output_type": "stream",
          "text": [
            "<class 'pandas.core.frame.DataFrame'>\n",
            "RangeIndex: 302 entries, 0 to 301\n",
            "Data columns (total 21 columns):\n",
            " #   Column               Non-Null Count  Dtype  \n",
            "---  ------               --------------  -----  \n",
            " 0   Employee Name        301 non-null    object \n",
            " 1   Employee Number      301 non-null    float64\n",
            " 2   State                301 non-null    object \n",
            " 3   Zip                  301 non-null    float64\n",
            " 4   DOB                  301 non-null    object \n",
            " 5   Age                  301 non-null    float64\n",
            " 6   Sex                  301 non-null    object \n",
            " 7   MaritalDesc          301 non-null    object \n",
            " 8   CitizenDesc          301 non-null    object \n",
            " 9   Hispanic/Latino      301 non-null    object \n",
            " 10  RaceDesc             301 non-null    object \n",
            " 11  Date of Hire         301 non-null    object \n",
            " 12  Date of Termination  103 non-null    object \n",
            " 13  Reason For Term      301 non-null    object \n",
            " 14  Employment Status    301 non-null    object \n",
            " 15  Department           301 non-null    object \n",
            " 16  Position             301 non-null    object \n",
            " 17  Pay Rate             301 non-null    float64\n",
            " 18  Manager Name         301 non-null    object \n",
            " 19  Employee Source      301 non-null    object \n",
            " 20  Performance Score    301 non-null    object \n",
            "dtypes: float64(4), object(17)\n",
            "memory usage: 49.7+ KB\n"
          ],
          "name": "stdout"
        }
      ]
    },
    {
      "cell_type": "code",
      "metadata": {
        "id": "SvOKrUXaiP0D",
        "colab_type": "code",
        "colab": {
          "base_uri": "https://localhost:8080/",
          "height": 297
        },
        "outputId": "485257f4-0cb0-4af0-cde0-ce63caa27376"
      },
      "source": [
        "# To find the count, mean, standard deviation, minimum and maximum values and the quantities of the data.\n",
        "df.describe()"
      ],
      "execution_count": 24,
      "outputs": [
        {
          "output_type": "execute_result",
          "data": {
            "text/html": [
              "<div>\n",
              "<style scoped>\n",
              "    .dataframe tbody tr th:only-of-type {\n",
              "        vertical-align: middle;\n",
              "    }\n",
              "\n",
              "    .dataframe tbody tr th {\n",
              "        vertical-align: top;\n",
              "    }\n",
              "\n",
              "    .dataframe thead th {\n",
              "        text-align: right;\n",
              "    }\n",
              "</style>\n",
              "<table border=\"1\" class=\"dataframe\">\n",
              "  <thead>\n",
              "    <tr style=\"text-align: right;\">\n",
              "      <th></th>\n",
              "      <th>Employee Number</th>\n",
              "      <th>Zip</th>\n",
              "      <th>Age</th>\n",
              "      <th>Pay Rate</th>\n",
              "    </tr>\n",
              "  </thead>\n",
              "  <tbody>\n",
              "    <tr>\n",
              "      <th>count</th>\n",
              "      <td>3.010000e+02</td>\n",
              "      <td>301.000000</td>\n",
              "      <td>301.000000</td>\n",
              "      <td>301.000000</td>\n",
              "    </tr>\n",
              "    <tr>\n",
              "      <th>mean</th>\n",
              "      <td>1.205421e+09</td>\n",
              "      <td>6705.196013</td>\n",
              "      <td>38.548173</td>\n",
              "      <td>30.715249</td>\n",
              "    </tr>\n",
              "    <tr>\n",
              "      <th>std</th>\n",
              "      <td>1.826616e+08</td>\n",
              "      <td>17167.527864</td>\n",
              "      <td>8.942884</td>\n",
              "      <td>15.216214</td>\n",
              "    </tr>\n",
              "    <tr>\n",
              "      <th>min</th>\n",
              "      <td>6.020003e+08</td>\n",
              "      <td>1013.000000</td>\n",
              "      <td>25.000000</td>\n",
              "      <td>14.000000</td>\n",
              "    </tr>\n",
              "    <tr>\n",
              "      <th>25%</th>\n",
              "      <td>1.102024e+09</td>\n",
              "      <td>1901.000000</td>\n",
              "      <td>31.000000</td>\n",
              "      <td>20.000000</td>\n",
              "    </tr>\n",
              "    <tr>\n",
              "      <th>50%</th>\n",
              "      <td>1.204033e+09</td>\n",
              "      <td>2132.000000</td>\n",
              "      <td>37.000000</td>\n",
              "      <td>24.000000</td>\n",
              "    </tr>\n",
              "    <tr>\n",
              "      <th>75%</th>\n",
              "      <td>1.401065e+09</td>\n",
              "      <td>2421.000000</td>\n",
              "      <td>44.000000</td>\n",
              "      <td>43.000000</td>\n",
              "    </tr>\n",
              "    <tr>\n",
              "      <th>max</th>\n",
              "      <td>1.988300e+09</td>\n",
              "      <td>98052.000000</td>\n",
              "      <td>67.000000</td>\n",
              "      <td>80.000000</td>\n",
              "    </tr>\n",
              "  </tbody>\n",
              "</table>\n",
              "</div>"
            ],
            "text/plain": [
              "       Employee Number           Zip         Age    Pay Rate\n",
              "count     3.010000e+02    301.000000  301.000000  301.000000\n",
              "mean      1.205421e+09   6705.196013   38.548173   30.715249\n",
              "std       1.826616e+08  17167.527864    8.942884   15.216214\n",
              "min       6.020003e+08   1013.000000   25.000000   14.000000\n",
              "25%       1.102024e+09   1901.000000   31.000000   20.000000\n",
              "50%       1.204033e+09   2132.000000   37.000000   24.000000\n",
              "75%       1.401065e+09   2421.000000   44.000000   43.000000\n",
              "max       1.988300e+09  98052.000000   67.000000   80.000000"
            ]
          },
          "metadata": {
            "tags": []
          },
          "execution_count": 24
        }
      ]
    },
    {
      "cell_type": "markdown",
      "metadata": {
        "id": "99lOcKLQgGbc",
        "colab_type": "text"
      },
      "source": [
        "\n",
        "# Missing values"
      ]
    },
    {
      "cell_type": "code",
      "metadata": {
        "id": "ywN3tOvDODBw",
        "colab_type": "code",
        "colab": {
          "base_uri": "https://localhost:8080/",
          "height": 388
        },
        "outputId": "efd78d26-4294-4510-9f52-f9252d875470"
      },
      "source": [
        "# Visualization\n",
        "sns.set()\n",
        "\n",
        "# Check if there is any missing value\n",
        "sns.heatmap(df.isnull(), cmap='viridis')\n"
      ],
      "execution_count": 25,
      "outputs": [
        {
          "output_type": "execute_result",
          "data": {
            "text/plain": [
              "<matplotlib.axes._subplots.AxesSubplot at 0x7facb6850748>"
            ]
          },
          "metadata": {
            "tags": []
          },
          "execution_count": 25
        },
        {
          "output_type": "display_data",
          "data": {
            "image/png": "[encoded data removed]",
            "text/plain": [
              "<Figure size 432x288 with 2 Axes>"
            ]
          },
          "metadata": {
            "tags": []
          }
        }
      ]
    },
    {
      "cell_type": "markdown",
      "metadata": {
        "id": "vXWSzf91f9vo",
        "colab_type": "text"
      },
      "source": [
        "#Outliers"
      ]
    },
    {
      "cell_type": "code",
      "metadata": {
        "id": "VLSEzhtli-4L",
        "colab_type": "code",
        "colab": {
          "base_uri": "https://localhost:8080/",
          "height": 265
        },
        "outputId": "73157375-331c-4b6e-d734-7f4ac1d91607"
      },
      "source": [
        "# Check if there is any outlier in \"Pay Rate\" column\n",
        "sns.boxplot(df['Pay Rate'].values, orient='v')\n"
      ],
      "execution_count": 26,
      "outputs": [
        {
          "output_type": "execute_result",
          "data": {
            "text/plain": [
              "<matplotlib.axes._subplots.AxesSubplot at 0x7facb68507b8>"
            ]
          },
          "metadata": {
            "tags": []
          },
          "execution_count": 26
        },
        {
          "output_type": "display_data",
          "data": {
            "image/png": "[encoded data removed]",
            "text/plain": [
              "<Figure size 432x288 with 1 Axes>"
            ]
          },
          "metadata": {
            "tags": []
          }
        }
      ]
    },
    {
      "cell_type": "markdown",
      "metadata": {
        "id": "qNJHJG-zgByB",
        "colab_type": "text"
      },
      "source": [
        "#Duplicates"
      ]
    },
    {
      "cell_type": "markdown",
      "metadata": {
        "id": "WlTaRNOqft6c",
        "colab_type": "text"
      },
      "source": [
        "Check if there are any duplicates.\n",
        "Compare #rows in shape before and shape after.\n",
        "If there is any difference, then there are duplicates and they have been removed."
      ]
    },
    {
      "cell_type": "code",
      "metadata": {
        "id": "McwlWVRfib_V",
        "colab_type": "code",
        "colab": {
          "base_uri": "https://localhost:8080/",
          "height": 34
        },
        "outputId": "7498595e-2840-450d-d746-c0cc110bd60a"
      },
      "source": [
        "print(\"Shape before:\", df.shape)"
      ],
      "execution_count": 27,
      "outputs": [
        {
          "output_type": "stream",
          "text": [
            "Shape before: (302, 21)\n"
          ],
          "name": "stdout"
        }
      ]
    },
    {
      "cell_type": "code",
      "metadata": {
        "id": "MtONGKSWieu-",
        "colab_type": "code",
        "colab": {
          "base_uri": "https://localhost:8080/",
          "height": 428
        },
        "outputId": "e8c97b90-e00e-482a-dcb4-1b5b42280fef"
      },
      "source": [
        "df= df.drop_duplicates()\n",
        "df.head()"
      ],
      "execution_count": 28,
      "outputs": [
        {
          "output_type": "execute_result",
          "data": {
            "text/html": [
              "<div>\n",
              "<style scoped>\n",
              "    .dataframe tbody tr th:only-of-type {\n",
              "        vertical-align: middle;\n",
              "    }\n",
              "\n",
              "    .dataframe tbody tr th {\n",
              "        vertical-align: top;\n",
              "    }\n",
              "\n",
              "    .dataframe thead th {\n",
              "        text-align: right;\n",
              "    }\n",
              "</style>\n",
              "<table border=\"1\" class=\"dataframe\">\n",
              "  <thead>\n",
              "    <tr style=\"text-align: right;\">\n",
              "      <th></th>\n",
              "      <th>Employee Name</th>\n",
              "      <th>Employee Number</th>\n",
              "      <th>State</th>\n",
              "      <th>Zip</th>\n",
              "      <th>DOB</th>\n",
              "      <th>Age</th>\n",
              "      <th>Sex</th>\n",
              "      <th>MaritalDesc</th>\n",
              "      <th>CitizenDesc</th>\n",
              "      <th>Hispanic/Latino</th>\n",
              "      <th>RaceDesc</th>\n",
              "      <th>Date of Hire</th>\n",
              "      <th>Date of Termination</th>\n",
              "      <th>Reason For Term</th>\n",
              "      <th>Employment Status</th>\n",
              "      <th>Department</th>\n",
              "      <th>Position</th>\n",
              "      <th>Pay Rate</th>\n",
              "      <th>Manager Name</th>\n",
              "      <th>Employee Source</th>\n",
              "      <th>Performance Score</th>\n",
              "    </tr>\n",
              "  </thead>\n",
              "  <tbody>\n",
              "    <tr>\n",
              "      <th>0</th>\n",
              "      <td>Brown, Mia</td>\n",
              "      <td>1.103024e+09</td>\n",
              "      <td>MA</td>\n",
              "      <td>1450.0</td>\n",
              "      <td>11/24/1985</td>\n",
              "      <td>32.0</td>\n",
              "      <td>Female</td>\n",
              "      <td>Married</td>\n",
              "      <td>US Citizen</td>\n",
              "      <td>No</td>\n",
              "      <td>Black or African American</td>\n",
              "      <td>10/27/2008</td>\n",
              "      <td>NaN</td>\n",
              "      <td>N/A - still employed</td>\n",
              "      <td>Active</td>\n",
              "      <td>Admin Offices</td>\n",
              "      <td>Accountant I</td>\n",
              "      <td>28.50</td>\n",
              "      <td>Brandon R. LeBlanc</td>\n",
              "      <td>Diversity Job Fair</td>\n",
              "      <td>Fully Meets</td>\n",
              "    </tr>\n",
              "    <tr>\n",
              "      <th>1</th>\n",
              "      <td>LaRotonda, William</td>\n",
              "      <td>1.106027e+09</td>\n",
              "      <td>MA</td>\n",
              "      <td>1460.0</td>\n",
              "      <td>4/26/1984</td>\n",
              "      <td>33.0</td>\n",
              "      <td>Male</td>\n",
              "      <td>Divorced</td>\n",
              "      <td>US Citizen</td>\n",
              "      <td>No</td>\n",
              "      <td>Black or African American</td>\n",
              "      <td>1/6/2014</td>\n",
              "      <td>NaN</td>\n",
              "      <td>N/A - still employed</td>\n",
              "      <td>Active</td>\n",
              "      <td>Admin Offices</td>\n",
              "      <td>Accountant I</td>\n",
              "      <td>23.00</td>\n",
              "      <td>Brandon R. LeBlanc</td>\n",
              "      <td>Website Banner Ads</td>\n",
              "      <td>Fully Meets</td>\n",
              "    </tr>\n",
              "    <tr>\n",
              "      <th>2</th>\n",
              "      <td>Steans, Tyrone</td>\n",
              "      <td>1.302053e+09</td>\n",
              "      <td>MA</td>\n",
              "      <td>2703.0</td>\n",
              "      <td>9/1/1986</td>\n",
              "      <td>31.0</td>\n",
              "      <td>Male</td>\n",
              "      <td>Single</td>\n",
              "      <td>US Citizen</td>\n",
              "      <td>No</td>\n",
              "      <td>White</td>\n",
              "      <td>9/29/2014</td>\n",
              "      <td>NaN</td>\n",
              "      <td>N/A - still employed</td>\n",
              "      <td>Active</td>\n",
              "      <td>Admin Offices</td>\n",
              "      <td>Accountant I</td>\n",
              "      <td>29.00</td>\n",
              "      <td>Brandon R. LeBlanc</td>\n",
              "      <td>Internet Search</td>\n",
              "      <td>Fully Meets</td>\n",
              "    </tr>\n",
              "    <tr>\n",
              "      <th>3</th>\n",
              "      <td>Howard, Estelle</td>\n",
              "      <td>1.211051e+09</td>\n",
              "      <td>MA</td>\n",
              "      <td>2170.0</td>\n",
              "      <td>9/16/1985</td>\n",
              "      <td>32.0</td>\n",
              "      <td>Female</td>\n",
              "      <td>Married</td>\n",
              "      <td>US Citizen</td>\n",
              "      <td>No</td>\n",
              "      <td>White</td>\n",
              "      <td>2/16/2015</td>\n",
              "      <td>4/15/2015</td>\n",
              "      <td>N/A - still employed</td>\n",
              "      <td>Active</td>\n",
              "      <td>Admin Offices</td>\n",
              "      <td>Administrative Assistant</td>\n",
              "      <td>21.50</td>\n",
              "      <td>Brandon R. LeBlanc</td>\n",
              "      <td>Pay Per Click - Google</td>\n",
              "      <td>N/A- too early to review</td>\n",
              "    </tr>\n",
              "    <tr>\n",
              "      <th>4</th>\n",
              "      <td>Singh, Nan</td>\n",
              "      <td>1.307060e+09</td>\n",
              "      <td>MA</td>\n",
              "      <td>2330.0</td>\n",
              "      <td>5/19/1988</td>\n",
              "      <td>29.0</td>\n",
              "      <td>Female</td>\n",
              "      <td>Single</td>\n",
              "      <td>US Citizen</td>\n",
              "      <td>No</td>\n",
              "      <td>White</td>\n",
              "      <td>5/1/2015</td>\n",
              "      <td>NaN</td>\n",
              "      <td>N/A - still employed</td>\n",
              "      <td>Active</td>\n",
              "      <td>Admin Offices</td>\n",
              "      <td>Administrative Assistant</td>\n",
              "      <td>16.56</td>\n",
              "      <td>Brandon R. LeBlanc</td>\n",
              "      <td>Website Banner Ads</td>\n",
              "      <td>N/A- too early to review</td>\n",
              "    </tr>\n",
              "  </tbody>\n",
              "</table>\n",
              "</div>"
            ],
            "text/plain": [
              "          Employee Name  ...         Performance Score\n",
              "0            Brown, Mia  ...               Fully Meets\n",
              "1  LaRotonda, William    ...               Fully Meets\n",
              "2      Steans, Tyrone    ...               Fully Meets\n",
              "3       Howard, Estelle  ...  N/A- too early to review\n",
              "4           Singh, Nan   ...  N/A- too early to review\n",
              "\n",
              "[5 rows x 21 columns]"
            ]
          },
          "metadata": {
            "tags": []
          },
          "execution_count": 28
        }
      ]
    },
    {
      "cell_type": "code",
      "metadata": {
        "id": "lQ_iKcojiibI",
        "colab_type": "code",
        "colab": {
          "base_uri": "https://localhost:8080/",
          "height": 34
        },
        "outputId": "b92550d0-bb1d-4f98-f13f-4bb38af62c6a"
      },
      "source": [
        "print(\"Shape after:\", df.shape)"
      ],
      "execution_count": 29,
      "outputs": [
        {
          "output_type": "stream",
          "text": [
            "Shape after: (302, 21)\n"
          ],
          "name": "stdout"
        }
      ]
    }
  ]
}