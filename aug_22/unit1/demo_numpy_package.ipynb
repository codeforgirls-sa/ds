{
 "cells": [
  {
   "cell_type": "code",
   "execution_count": 36,
   "metadata": {
    "colab": {},
    "colab_type": "code",
    "id": "hLfY2npyFSmH"
   },
   "outputs": [],
   "source": [
    "import numpy as np\n",
    "import pandas as pd\n",
    "import matplotlib.pyplot as plt\n",
    "import seaborn as sns\n"
   ]
  },
  {
   "cell_type": "markdown",
   "metadata": {
    "colab_type": "text",
    "id": "hXz8QjC01bxR"
   },
   "source": [
    "# Numpy"
   ]
  },
  {
   "cell_type": "markdown",
   "metadata": {
    "colab_type": "text",
    "id": "dTEB5L2RwcJI"
   },
   "source": [
    "NumPy is an open source library aiming to enable numerical computing with Python.  \n",
    "[documentation](https://numpy.org/)"
   ]
  },
  {
   "cell_type": "code",
   "execution_count": 48,
   "metadata": {
    "colab": {
     "base_uri": "https://localhost:8080/",
     "height": 51
    },
    "colab_type": "code",
    "id": "FMnYqQZBEYeI",
    "outputId": "8a6a5156-f0b6-4e61-a8d9-b558c02e58da"
   },
   "outputs": [
    {
     "data": {
      "text/plain": [
       "array([[1., 0., 0.],\n",
       "       [0., 1., 2.]])"
      ]
     },
     "execution_count": 48,
     "metadata": {},
     "output_type": "execute_result"
    }
   ],
   "source": [
    "# In NumPy dimensions are called axes.\n",
    "# The list arr has 2 axes. The first axis has a length of 2, the second axis has a length of 3.\n",
    "list1 = [[1., 0., 0.], [0., 1., 2.]]\n",
    "\n",
    "# Convert list1 to numpy array.\n",
    "arr = np.asarray(list1)\n",
    "arr"
   ]
  },
  {
   "cell_type": "code",
   "execution_count": 44,
   "metadata": {
    "colab": {
     "base_uri": "https://localhost:8080/",
     "height": 34
    },
    "colab_type": "code",
    "id": "uS4IIdxeqmZJ",
    "outputId": "87743701-ed73-41a2-9197-9c538940b47a"
   },
   "outputs": [
    {
     "data": {
      "text/plain": [
       "numpy.ndarray"
      ]
     },
     "execution_count": 44,
     "metadata": {},
     "output_type": "execute_result"
    }
   ],
   "source": [
    "# Create numpy array\n",
    "arr2 = np.array([1, 2, 3, 4])\n"
   ]
  },
  {
   "cell_type": "code",
   "execution_count": 38,
   "metadata": {
    "colab": {
     "base_uri": "https://localhost:8080/",
     "height": 34
    },
    "colab_type": "code",
    "id": "q70tMJulqdqi",
    "outputId": "1d8fa55f-2e59-44fd-ada9-85c7fda66f6e"
   },
   "outputs": [
    {
     "name": "stdout",
     "output_type": "stream",
     "text": [
      "Number of axes: 2\n"
     ]
    }
   ],
   "source": [
    "# Print the number of axes (dimensions) of the array.  here we have (2)\n",
    "print(\"Number of axes:\", arr.ndim)"
   ]
  },
  {
   "cell_type": "code",
   "execution_count": 51,
   "metadata": {},
   "outputs": [
    {
     "data": {
      "text/plain": [
       "(4, 3)"
      ]
     },
     "execution_count": 51,
     "metadata": {},
     "output_type": "execute_result"
    }
   ],
   "source": [
    "np.asarray( [[1., 0., 0.], [0., 1., 2.], [1., 0., 0.], [0., 1., 2.]]).shape\n"
   ]
  },
  {
   "cell_type": "code",
   "execution_count": 50,
   "metadata": {
    "colab": {
     "base_uri": "https://localhost:8080/",
     "height": 34
    },
    "colab_type": "code",
    "id": "T7y5ke6aqPR9",
    "outputId": "b923087b-afd2-4bea-a066-8ddf4b700569"
   },
   "outputs": [
    {
     "name": "stdout",
     "output_type": "stream",
     "text": [
      "Shape: (2, 3)\n"
     ]
    }
   ],
   "source": [
    "# Print #rows and #columns. For a matrix with n rows and m columns, shape will be (n, m).\n",
    "print(\"Shape:\", arr.shape)"
   ]
  },
  {
   "cell_type": "code",
   "execution_count": 40,
   "metadata": {
    "colab": {
     "base_uri": "https://localhost:8080/",
     "height": 34
    },
    "colab_type": "code",
    "id": "J5a0jWSoqR4A",
    "outputId": "7d603696-0d00-42a4-c37f-02e817eccb3d"
   },
   "outputs": [
    {
     "name": "stdout",
     "output_type": "stream",
     "text": [
      "Total number of elements: 6\n"
     ]
    }
   ],
   "source": [
    "# Print the total number of elements of the array. This is equal to the product of the elements of shape.\n",
    "print(\"Total number of elements:\", arr.size)"
   ]
  },
  {
   "cell_type": "code",
   "execution_count": 41,
   "metadata": {
    "colab": {
     "base_uri": "https://localhost:8080/",
     "height": 34
    },
    "colab_type": "code",
    "id": "IyQ2r6HiqVDQ",
    "outputId": "06751861-a59a-4e44-d31c-b471483842ae"
   },
   "outputs": [
    {
     "name": "stdout",
     "output_type": "stream",
     "text": [
      "The type of the elements in the array: float64\n"
     ]
    }
   ],
   "source": [
    "# Print an object describing the type of the elements in the array. \n",
    "print(\"The type of the elements in the array:\", arr.dtype)"
   ]
  },
  {
   "cell_type": "markdown",
   "metadata": {
    "colab_type": "text",
    "id": "c8JYmW6-s79q"
   },
   "source": [
    "[dtype](https://pbpython.com/images/pandas_dtypes.png)"
   ]
  },
  {
   "cell_type": "code",
   "execution_count": 52,
   "metadata": {
    "colab": {
     "base_uri": "https://localhost:8080/",
     "height": 51
    },
    "colab_type": "code",
    "id": "xtXZY9nI4U1A",
    "outputId": "02c54c69-55b2-423e-8366-3588d9f8393b"
   },
   "outputs": [
    {
     "name": "stdout",
     "output_type": "stream",
     "text": [
      "Square root of 25 is: 5.0\n",
      "6 to the power 2 is: 216\n"
     ]
    }
   ],
   "source": [
    "# Square root\n",
    "s = 25\n",
    "print(\"Square root of 25 is:\", np.sqrt(s))\n",
    "\n",
    "# Power\n",
    "p = 6\n",
    "print(\"6 to the power 2 is:\", np.power(p, 3))\n"
   ]
  },
  {
   "cell_type": "code",
   "execution_count": null,
   "metadata": {},
   "outputs": [],
   "source": []
  }
 ],
 "metadata": {
  "colab": {
   "authorship_tag": "ABX9TyNCeilMp1xCydgOw3TO+CC0",
   "include_colab_link": true,
   "name": "demo-packages.ipynb",
   "provenance": []
  },
  "kernelspec": {
   "display_name": "Python 3",
   "language": "python",
   "name": "python3"
  },
  "language_info": {
   "codemirror_mode": {
    "name": "ipython",
    "version": 3
   },
   "file_extension": ".py",
   "mimetype": "text/x-python",
   "name": "python",
   "nbconvert_exporter": "python",
   "pygments_lexer": "ipython3",
   "version": "3.9.7"
  }
 },
 "nbformat": 4,
 "nbformat_minor": 1
}
